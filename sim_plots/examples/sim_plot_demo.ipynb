{
 "cells": [
  {
   "cell_type": "code",
   "execution_count": 8,
   "metadata": {},
   "outputs": [],
   "source": [
    "%matplotlib inline\n",
    "from matplotlib import pyplot as plt\n",
    "import sys\n",
    "sys.path.append('../')\n",
    "from sim_data_vis import *\n",
    "import seaborn as sns"
   ]
  },
  {
   "cell_type": "code",
   "execution_count": 9,
   "metadata": {},
   "outputs": [],
   "source": [
    "filepath = '../data/'\n",
    "filename = filepath + 'MixProva12.txt'"
   ]
  },
  {
   "cell_type": "code",
   "execution_count": 10,
   "metadata": {},
   "outputs": [
    {
     "ename": "KeyboardInterrupt",
     "evalue": "",
     "output_type": "error",
     "traceback": [
      "\u001b[0;31m---------------------------------------------------------------------------\u001b[0m",
      "\u001b[0;31mKeyboardInterrupt\u001b[0m                         Traceback (most recent call last)",
      "\u001b[0;32m<ipython-input-10-0228ee97f56f>\u001b[0m in \u001b[0;36m<module>\u001b[0;34m()\u001b[0m\n\u001b[1;32m      8\u001b[0m \u001b[0;32mwith\u001b[0m \u001b[0mSimDataVis\u001b[0m\u001b[0;34m(\u001b[0m\u001b[0mfilename\u001b[0m\u001b[0;34m)\u001b[0m \u001b[0;32mas\u001b[0m \u001b[0mFileVis\u001b[0m\u001b[0;34m:\u001b[0m\u001b[0;34m\u001b[0m\u001b[0m\n\u001b[1;32m      9\u001b[0m     \u001b[0mFileVis\u001b[0m\u001b[0;34m.\u001b[0m\u001b[0mdata_level\u001b[0m \u001b[0;34m=\u001b[0m \u001b[0;36m1\u001b[0m\u001b[0;34m\u001b[0m\u001b[0m\n\u001b[0;32m---> 10\u001b[0;31m     \u001b[0mFileVis\u001b[0m\u001b[0;34m.\u001b[0m\u001b[0mplot_pdm_sum\u001b[0m\u001b[0;34m(\u001b[0m\u001b[0;34m)\u001b[0m\u001b[0;34m\u001b[0m\u001b[0m\n\u001b[0m\u001b[1;32m     11\u001b[0m     \u001b[0mplt\u001b[0m\u001b[0;34m.\u001b[0m\u001b[0msavefig\u001b[0m\u001b[0;34m(\u001b[0m\u001b[0;34m'/Users/Fran/Downloads/sprite1.png'\u001b[0m\u001b[0;34m,\u001b[0m \u001b[0mbbox_inches\u001b[0m\u001b[0;34m=\u001b[0m\u001b[0;34m'tight'\u001b[0m\u001b[0;34m)\u001b[0m\u001b[0;34m\u001b[0m\u001b[0m\n",
      "\u001b[0;32m/Users/fran/projects/euso/euso_tools/sim_plots/sim_data_vis/sim_data_vis.pyc\u001b[0m in \u001b[0;36mplot_pdm_sum\u001b[0;34m(self)\u001b[0m\n\u001b[1;32m    121\u001b[0m         \"\"\"\n\u001b[1;32m    122\u001b[0m \u001b[0;34m\u001b[0m\u001b[0m\n\u001b[0;32m--> 123\u001b[0;31m         \u001b[0mSimDataVis\u001b[0m\u001b[0;34m.\u001b[0m\u001b[0m_read_data\u001b[0m\u001b[0;34m(\u001b[0m\u001b[0mself\u001b[0m\u001b[0;34m)\u001b[0m\u001b[0;34m\u001b[0m\u001b[0m\n\u001b[0m\u001b[1;32m    124\u001b[0m \u001b[0;34m\u001b[0m\u001b[0m\n\u001b[1;32m    125\u001b[0m         \u001b[0;31m# get the sum from the data\u001b[0m\u001b[0;34m\u001b[0m\u001b[0;34m\u001b[0m\u001b[0m\n",
      "\u001b[0;32m/Users/fran/projects/euso/euso_tools/sim_plots/sim_data_vis/sim_data_vis.pyc\u001b[0m in \u001b[0;36m_read_data\u001b[0;34m(self)\u001b[0m\n\u001b[1;32m    103\u001b[0m \u001b[0;34m\u001b[0m\u001b[0m\n\u001b[1;32m    104\u001b[0m                         \u001b[0;32mfor\u001b[0m \u001b[0mgtu_counter\u001b[0m \u001b[0;32min\u001b[0m \u001b[0mrange\u001b[0m\u001b[0;34m(\u001b[0m\u001b[0mself\u001b[0m\u001b[0;34m.\u001b[0m\u001b[0mn_gtu\u001b[0m\u001b[0;34m)\u001b[0m\u001b[0;34m:\u001b[0m\u001b[0;34m\u001b[0m\u001b[0m\n\u001b[0;32m--> 105\u001b[0;31m                             \u001b[0mself\u001b[0m\u001b[0;34m.\u001b[0m\u001b[0mpdm_data\u001b[0m\u001b[0;34m[\u001b[0m\u001b[0mgtu_counter\u001b[0m\u001b[0;34m]\u001b[0m\u001b[0;34m[\u001b[0m\u001b[0;34m:\u001b[0m\u001b[0;34m]\u001b[0m\u001b[0;34m[\u001b[0m\u001b[0;34m:\u001b[0m\u001b[0;34m]\u001b[0m \u001b[0;34m=\u001b[0m \u001b[0mcontent\u001b[0m\u001b[0;34m[\u001b[0m\u001b[0mindex\u001b[0m\u001b[0;34m[\u001b[0m\u001b[0mgtu_counter\u001b[0m\u001b[0;34m]\u001b[0m \u001b[0;34m+\u001b[0m \u001b[0;36m1\u001b[0m \u001b[0;34m:\u001b[0m \u001b[0mindex\u001b[0m\u001b[0;34m[\u001b[0m\u001b[0mgtu_counter\u001b[0m\u001b[0;34m]\u001b[0m \u001b[0;34m+\u001b[0m \u001b[0;34m(\u001b[0m\u001b[0mself\u001b[0m\u001b[0;34m.\u001b[0m\u001b[0m_rows\u001b[0m \u001b[0;34m+\u001b[0m \u001b[0;36m1\u001b[0m\u001b[0;34m)\u001b[0m\u001b[0;34m]\u001b[0m\u001b[0;34m\u001b[0m\u001b[0m\n\u001b[0m\u001b[1;32m    106\u001b[0m                             \u001b[0mself\u001b[0m\u001b[0;34m.\u001b[0m\u001b[0mlight_curve\u001b[0m\u001b[0;34m.\u001b[0m\u001b[0mappend\u001b[0m\u001b[0;34m(\u001b[0m\u001b[0mnp\u001b[0m\u001b[0;34m.\u001b[0m\u001b[0msum\u001b[0m\u001b[0;34m(\u001b[0m\u001b[0mself\u001b[0m\u001b[0;34m.\u001b[0m\u001b[0mpdm_data\u001b[0m\u001b[0;34m[\u001b[0m\u001b[0mgtu_counter\u001b[0m\u001b[0;34m]\u001b[0m\u001b[0;34m[\u001b[0m\u001b[0;34m:\u001b[0m\u001b[0;34m]\u001b[0m\u001b[0;34m[\u001b[0m\u001b[0;34m:\u001b[0m\u001b[0;34m]\u001b[0m\u001b[0;34m)\u001b[0m\u001b[0;34m)\u001b[0m\u001b[0;34m\u001b[0m\u001b[0m\n\u001b[1;32m    107\u001b[0m \u001b[0;34m\u001b[0m\u001b[0m\n",
      "\u001b[0;31mKeyboardInterrupt\u001b[0m: "
     ]
    }
   ],
   "source": [
    "# make standard plot\n",
    "sns.set_style(\"white\")\n",
    "sns.set_context(\"paper\", rc={\"font.size\":22,\"axes.titlesize\":22,\"axes.labelsize\":22,\n",
    "                             \"xtick.labelsize\":22, \"ytick.labelsize\":22})\n",
    "matplotlib.rcParams['savefig.transparent'] = True\n",
    "matplotlib.rcParams['savefig.dpi'] = 500\n",
    "\n",
    "with SimDataVis(filename) as FileVis:\n",
    "    FileVis.data_level = 1\n",
    "    FileVis.plot_pdm_sum()\n",
    "    plt.savefig('/Users/Fran/Downloads/sprite1.png', bbox_inches='tight')"
   ]
  },
  {
   "cell_type": "code",
   "execution_count": null,
   "metadata": {},
   "outputs": [],
   "source": [
    "filepath = '../data/'\n",
    "filename = filepath + 'uhecr_sim_10_23.txt'"
   ]
  },
  {
   "cell_type": "code",
   "execution_count": null,
   "metadata": {},
   "outputs": [],
   "source": [
    "# make animated gif\n",
    "from matplotlib import animation, rc\n",
    "from IPython.display import HTML\n",
    "rc('animation', html='html5')\n",
    "matplotlib.rcParams['savefig.transparent'] = True\n",
    "matplotlib.rcParams['savefig.dpi'] = 500\n",
    "\n",
    "with SimDataVis(filename) as FileVis:\n",
    "    FileVis.data_level = 3\n",
    "    FileVis._read_data()\n",
    "    n_gtu = FileVis.n_gtu    \n",
    "\n",
    "    #initialise\n",
    "    gtu_num = 0\n",
    "    fig = plt.figure(facecolor = None)\n",
    "    ax = fig.add_subplot(111)\n",
    "    init_frame = FileVis.pdm_data[gtu_num]\n",
    "    cmap = plt.cm.get_cmap(\"YlGnBu_r\")\n",
    "    im = plt.imshow(init_frame, cmap = cmap,\n",
    "                    animated = True, origin = 'lower')\n",
    "    \n",
    "    # Set ticks\n",
    "    major_ticks = np.arange(-.5, 48, 8)\n",
    "    minor_ticks = np.arange(-.5, 48, 1)\n",
    "    #ax.set_xlim(0.0,47.0)\n",
    "    ax.set_xticks(major_ticks)\n",
    "    ax.set_xticks(minor_ticks, minor=True)\n",
    "    ax.set_yticks(major_ticks)\n",
    "    ax.set_yticks(minor_ticks, minor=True)\n",
    "    ax.set_xticklabels(np.arange(0, 49, 8));\n",
    "    ax.set_yticklabels(np.arange(0, 49, 8));\n",
    "    \n",
    "    # Set grid\n",
    "    #ax.grid(which='minor', alpha=0.2)\n",
    "    ax.grid(color='k', linestyle='-', linewidth=2)\n",
    "    ax.grid(which='major', alpha=0.4)\n",
    "\n",
    "    cbar=plt.colorbar()\n",
    "    cbar.set_label('counts', x = 1.2)\n",
    "    cbar.formatter.set_powerlimits((0, 0))\n",
    "    \n",
    "    def updatefig(*args):\n",
    "        global frame, gtu_num\n",
    "        gtu_num += 1\n",
    "        frame = FileVis.pdm_data[gtu_num]\n",
    "        im.set_array(frame)\n",
    "        plt.title('t = ' + str(gtu_num*0.041) + ' [s]')\n",
    "        return im,\n",
    "\n",
    "    # animation\n",
    "    anim = animation.FuncAnimation(fig, updatefig, frames = n_gtu - 3, \n",
    "                               interval = 200, blit = False)\n",
    "\n",
    "    anim.save(\"/Users/fran/Downloads/uhecr.mp4\")\n",
    "    #HTML(anim.to_html5_video())\n"
   ]
  },
  {
   "cell_type": "code",
   "execution_count": null,
   "metadata": {},
   "outputs": [],
   "source": []
  }
 ],
 "metadata": {
  "kernelspec": {
   "display_name": "Python 2",
   "language": "python",
   "name": "python2"
  },
  "language_info": {
   "codemirror_mode": {
    "name": "ipython",
    "version": 2
   },
   "file_extension": ".py",
   "mimetype": "text/x-python",
   "name": "python",
   "nbconvert_exporter": "python",
   "pygments_lexer": "ipython2",
   "version": "2.7.13"
  }
 },
 "nbformat": 4,
 "nbformat_minor": 2
}
